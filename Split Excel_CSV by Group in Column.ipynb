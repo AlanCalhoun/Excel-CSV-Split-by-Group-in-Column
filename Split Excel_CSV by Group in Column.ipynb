{
 "cells": [
  {
   "cell_type": "code",
   "execution_count": null,
   "metadata": {},
   "outputs": [],
   "source": [
    "#imports\n",
    "import pandas as pd\n",
    "import os\n",
    "from datetime import datetime\n",
    "\n",
    "#source file\n",
    "data = 'C:/Users/acalhoun/Desktop/missing notes/Appointment to Progress Note Reconciliation 05-05-22.csv'\n",
    "#destination folder\n",
    "output = 'C:/Users/acalhoun/Desktop/missing notes/split'\n",
    "#column name to group by\n",
    "col_grp = 'Location'\n",
    "\n",
    "#get file modified date\n",
    "m_time = os.path.getmtime(data)\n",
    "dt_m = datetime.fromtimestamp(m_time)\n",
    "date_str = dt_m.strftime(\"%m-%d-%Y\")\n",
    "\n",
    "#read file into dataframe. Can be switched to excel pd.read_excel(data)\n",
    "df = pd.read_csv(data)\n",
    "\n",
    "#Split the file based on value in column group\n",
    "split_values = df[col_grp].unique()\n",
    "for value in split_values:\n",
    "    df1 = df[df[col_grp]==value]\n",
    "    output_file_name = str(value).replace(\"/\",\"\") + ' MISSING NOTES ' +date_str+ '.xlsx'\n",
    "    df1.to_excel(os.path.join(output, output_file_name), index = False)\n",
    "    print(output_file_name+' created in '+output)\n",
    "print('Process completed')"
   ]
  },
  {
   "cell_type": "code",
   "execution_count": null,
   "metadata": {},
   "outputs": [],
   "source": []
  }
 ],
 "metadata": {
  "kernelspec": {
   "display_name": "Python 3",
   "language": "python",
   "name": "python3"
  },
  "language_info": {
   "codemirror_mode": {
    "name": "ipython",
    "version": 3
   },
   "file_extension": ".py",
   "mimetype": "text/x-python",
   "name": "python",
   "nbconvert_exporter": "python",
   "pygments_lexer": "ipython3",
   "version": "3.8.8"
  }
 },
 "nbformat": 4,
 "nbformat_minor": 4
}
